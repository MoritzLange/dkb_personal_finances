{
 "cells": [
  {
   "cell_type": "markdown",
   "metadata": {},
   "source": [
    "Annotate the data generated in cc_pdfs_to_dataframe.ipynb"
   ]
  },
  {
   "cell_type": "code",
   "execution_count": null,
   "metadata": {},
   "outputs": [],
   "source": [
    "import pandas as pd"
   ]
  },
  {
   "cell_type": "code",
   "execution_count": null,
   "metadata": {},
   "outputs": [],
   "source": [
    "data = pd.read_pickle(\"cc_data_raw.pkl\")\n",
    "data"
   ]
  },
  {
   "cell_type": "markdown",
   "metadata": {},
   "source": [
    "Define mapping for substrings in \"Subject\" to categories.\n",
    "\n",
    "A few cells below, the entries which are still unassigned will be listed. Find relevant substrings in those, go back up, and add them to the categories they belong to. Repeat for as long as necessary. Strings in categories always need to be lower case (programmed it this way out of laziness to capitalize words)."
   ]
  },
  {
   "cell_type": "markdown",
   "metadata": {},
   "source": [
    "These categories are kind of arbitrary. When adding or removing one, remember that cat_names, the category list itself, and cat_keywords need to be adjusted. The change also needs to be applied to relevant cells in data_analysis.ipynb."
   ]
  },
  {
   "cell_type": "code",
   "execution_count": null,
   "metadata": {},
   "outputs": [],
   "source": [
    "cat_names = [\n",
    "    \"EssenTrinken\", \"Reisen\", \"Transport\", \"Freizeit\", \"Auszahlung\",\n",
    "    \"Anschaffungen\", \"Laufende_Kosten\", \"Admin\", \"Miete\", \"Other\", \"Unassigned\"\n",
    "]\n",
    "cat1 = [\"rewe\"]  # EssenTrinken\n",
    "cat2 = [\"hotel\"]  # Reisen\n",
    "cat3 = [\"tankstelle\"]  # Transport\n",
    "cat4 = [\"boulder\"]  # Freizeit\n",
    "cat5 = [\"volksbank\", \"atm\"]  # Auszahlung\n",
    "cat6 = []  # Anschaffung\n",
    "cat7 = []  # Laufende_Kosten\n",
    "cat8 = []  # Admin\n",
    "cat9 = []  # Miete\n",
    "cat100 = []  # Other\n",
    "cat101 = []\n",
    "cat_keywords = [\n",
    "    cat1, cat2, cat3, cat4, cat5, cat6, cat7, cat8, cat9, cat100, cat101\n",
    "]"
   ]
  },
  {
   "cell_type": "code",
   "execution_count": null,
   "metadata": {},
   "outputs": [],
   "source": [
    "# Find the category for a given subject\n",
    "def find_cat(subject):\n",
    "    for i, keywords in enumerate(cat_keywords):\n",
    "        if any([kw in str.lower(subject) for kw in keywords]):\n",
    "            break\n",
    "    return cat_names[i]"
   ]
  },
  {
   "cell_type": "code",
   "execution_count": null,
   "metadata": {},
   "outputs": [],
   "source": [
    "data[\"Category\"] = data.Subject.apply(find_cat)"
   ]
  },
  {
   "cell_type": "code",
   "execution_count": null,
   "metadata": {},
   "outputs": [],
   "source": [
    "list(data.Subject[data.Category==\"Unassigned\"])"
   ]
  },
  {
   "cell_type": "code",
   "execution_count": null,
   "metadata": {},
   "outputs": [],
   "source": [
    "data"
   ]
  },
  {
   "cell_type": "code",
   "execution_count": null,
   "metadata": {},
   "outputs": [],
   "source": [
    "data[data.Category==\"EssenTrinken\"].plot(\"Date\", \"Amount\")"
   ]
  },
  {
   "cell_type": "code",
   "execution_count": null,
   "metadata": {},
   "outputs": [],
   "source": [
    "data.to_pickle(\"cc_data_annotated.pkl\")"
   ]
  }
 ],
 "metadata": {
  "kernelspec": {
   "display_name": "Python 3",
   "language": "python",
   "name": "python3"
  },
  "language_info": {
   "codemirror_mode": {
    "name": "ipython",
    "version": 3
   },
   "file_extension": ".py",
   "mimetype": "text/x-python",
   "name": "python",
   "nbconvert_exporter": "python",
   "pygments_lexer": "ipython3",
   "version": "3.7.6"
  }
 },
 "nbformat": 4,
 "nbformat_minor": 4
}

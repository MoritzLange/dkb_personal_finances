{
 "cells": [
  {
   "cell_type": "markdown",
   "metadata": {},
   "source": [
    "Analyse the credit card and account statement data"
   ]
  },
  {
   "cell_type": "markdown",
   "metadata": {},
   "source": [
    "# 1. Preparation"
   ]
  },
  {
   "cell_type": "code",
   "execution_count": null,
   "metadata": {},
   "outputs": [],
   "source": [
    "import pandas as pd\n",
    "import numpy as np\n",
    "import time\n",
    "import datetime as dt\n",
    "import matplotlib.pyplot as plt\n",
    "import matplotlib.colors as mc\n",
    "%matplotlib notebook"
   ]
  },
  {
   "cell_type": "code",
   "execution_count": null,
   "metadata": {},
   "outputs": [],
   "source": [
    "data_cc = pd.read_pickle(\"cc_data_annotated.pkl\")\n",
    "data_account = pd.read_pickle(\"statement_data_annotated.pkl\")\n",
    "data = data_cc.append(data_account)\n",
    "data = data.sort_values(\"Date\").reset_index(drop=True)"
   ]
  },
  {
   "cell_type": "code",
   "execution_count": null,
   "metadata": {},
   "outputs": [],
   "source": [
    "first_day = min(data.Date)\n",
    "last_day = max(data.Date)"
   ]
  },
  {
   "cell_type": "code",
   "execution_count": null,
   "metadata": {},
   "outputs": [],
   "source": [
    "# Reverse \"Amount\" to get expenses as positive values\n",
    "data.Amount = -data.Amount"
   ]
  },
  {
   "cell_type": "code",
   "execution_count": null,
   "metadata": {},
   "outputs": [],
   "source": [
    "data"
   ]
  },
  {
   "cell_type": "markdown",
   "metadata": {},
   "source": [
    "Syntax for removing an entry, if desired:"
   ]
  },
  {
   "cell_type": "code",
   "execution_count": null,
   "metadata": {},
   "outputs": [],
   "source": [
    "# data.loc[data.Subject.apply(lambda x: \"CANYON\" in x), \"Amount\"] = 0"
   ]
  },
  {
   "cell_type": "markdown",
   "metadata": {},
   "source": [
    "Add an expense of 0 to each category for each day, so that the plots make more sense"
   ]
  },
  {
   "cell_type": "code",
   "execution_count": null,
   "metadata": {},
   "outputs": [],
   "source": [
    "cat_names = [\n",
    "    \"EssenTrinken\", \"Reisen\", \"Transport\", \"Freizeit\", \"Auszahlung\",\n",
    "    \"Anschaffungen\", \"Laufende_Kosten\", \"Admin\", \"Investing\", \"Miete\",\n",
    "    \"Gehalt\", \"Other\", \"Unassigned\"\n",
    "]"
   ]
  },
  {
   "cell_type": "code",
   "execution_count": null,
   "metadata": {},
   "outputs": [],
   "source": [
    "all_dates = pd.date_range(first_day, last_day)\n",
    "dates = [date for date in all_dates for n in cat_names[:-1]]\n",
    "categories = [cat for date in all_dates for cat in cat_names[:-1]]\n",
    "amounts = np.repeat(0, len(dates))\n",
    "subjects = np.repeat(\"-\", len(dates))\n",
    "empty_df = pd.DataFrame({\n",
    "    \"Date\": dates,\n",
    "    \"Subject\": subjects,\n",
    "    \"Amount\": amounts,\n",
    "    \"Category\": categories\n",
    "})\n",
    "data = data.append(empty_df)\n",
    "data = data.sort_values(\"Date\")\n",
    "data.reset_index(drop=True, inplace=True)"
   ]
  },
  {
   "cell_type": "code",
   "execution_count": null,
   "metadata": {},
   "outputs": [],
   "source": [
    "data"
   ]
  },
  {
   "cell_type": "markdown",
   "metadata": {},
   "source": [
    "# 2. The actual analysis"
   ]
  },
  {
   "cell_type": "markdown",
   "metadata": {},
   "source": [
    "Calculate 1-month rolling sums"
   ]
  },
  {
   "cell_type": "code",
   "execution_count": null,
   "metadata": {},
   "outputs": [],
   "source": [
    "dfs = []\n",
    "for cat in cat_names[:-1]:\n",
    "    cat_data = data[data.Category == cat]\n",
    "    cat_data = cat_data.drop(columns=[\"Subject\", \"Category\"]).set_index(\"Date\")\n",
    "    monthly_cat_data = cat_data.rolling(\"30D\").sum()\n",
    "    dfs += [monthly_cat_data]"
   ]
  },
  {
   "cell_type": "code",
   "execution_count": null,
   "metadata": {
    "scrolled": false
   },
   "outputs": [],
   "source": [
    "for i, df in enumerate(dfs):\n",
    "    df.plot(title=cat_names[i])"
   ]
  },
  {
   "cell_type": "markdown",
   "metadata": {},
   "source": [
    "Define functions for further analysis"
   ]
  },
  {
   "cell_type": "code",
   "execution_count": null,
   "metadata": {},
   "outputs": [],
   "source": [
    "# Calculates the number of months between start and end day\n",
    "def calc_num_months(start, end):\n",
    "    num_months = (end.year - start.year) * 12 + (\n",
    "        end.month - start.month) + (end.day - start.day) / 30.45\n",
    "    return num_months\n",
    "\n",
    "\n",
    "# Calculates monthly averages between two points in time, as well as total expenses\n",
    "# based on categories_to_sum. Category_values can be floats instead of None, and are then added\n",
    "# to the monthly average of the respective category (in case there were expenses which are not\n",
    "# in the data)\n",
    "def calc_averages(min_time,\n",
    "                  max_time,\n",
    "                  categories_to_sum=[0, 1, 2, 3, 4, 5, 6, 8, 9, 11],\n",
    "                  category_values=[None] * 13):\n",
    "    per_month_vals = []\n",
    "    for j, cat in enumerate(cat_names):\n",
    "        total = sum(data[(data.Category == cat) & (data.Date >= min_time) &\n",
    "                         (data.Date <= max_time)].Amount)\n",
    "        per_month = total / calc_num_months(min_time, max_time)\n",
    "        if category_values[j] is not None:\n",
    "            per_month += category_values[j]\n",
    "        per_month_vals += [per_month]\n",
    "    total_expenses = sum(per_month_vals[i] for i in categories_to_sum\n",
    "                         if per_month_vals[i] > 0)\n",
    "    return {\n",
    "        \"total\": round(total_expenses, 2),\n",
    "        \"by_category\": [round(v, 2) for v in per_month_vals]\n",
    "    }\n",
    "\n",
    "# Convert string of format \"01.01.20\" to datetime object\n",
    "def to_dt(string):\n",
    "    return dt.datetime.strptime(string, \"%d.%m.%y\")"
   ]
  },
  {
   "cell_type": "code",
   "execution_count": null,
   "metadata": {},
   "outputs": [],
   "source": [
    "cat_names"
   ]
  },
  {
   "cell_type": "markdown",
   "metadata": {},
   "source": [
    "Split up the data into life stages, or episodes, so that costs and expenses can be compared between them:"
   ]
  },
  {
   "cell_type": "code",
   "execution_count": null,
   "metadata": {},
   "outputs": [],
   "source": [
    "life_stages_start_dates = [\n",
    "    \"01.08.16\", \"28.02.17\", \"30.03.18\", \"20.08.18\", \"28.02.20\"\n",
    "]\n",
    "life_stages_end_dates = [\n",
    "    \"24.01.17\", \"30.03.18\", \"20.08.18\", \"30.05.20\", \"30.05.20\"\n",
    "]\n",
    "life_stages_names = [\n",
    "    \"Living in city A\", \"Living in city B\", \"Living in city C\",\n",
    "    \"Licing in city D\", \"City D, last 3 months\"\n",
    "]\n",
    "rent_city_c = 300\n",
    "life_stage_averages = [\n",
    "    [None] * 13, [None] * 9 + [290] + [None] * 3,\n",
    "    [None] * 6 + [8] + [None] * 6,\n",
    "    [None] * 6 + [8] + [None] * 2 + [rent_city_c] + [None] * 3,\n",
    "    [None] * 6 + [8] + [None] * 2 + [rent_city_c] + [None] * 3\n",
    "]\n",
    "life_stage_df = pd.DataFrame(\n",
    "    data={\n",
    "        \"Name\": life_stages_names,\n",
    "        \"start\": life_stages_start_dates,\n",
    "        \"end\": life_stages_end_dates,\n",
    "        \"cat_values\": life_stage_averages\n",
    "    })\n",
    "life_stage_df"
   ]
  },
  {
   "cell_type": "markdown",
   "metadata": {},
   "source": [
    "Define the subset of the categories that should count into expenses:"
   ]
  },
  {
   "cell_type": "code",
   "execution_count": null,
   "metadata": {},
   "outputs": [],
   "source": [
    "expense_categories = [0, 1, 2, 3, 4, 5, 6, 8, 9, 11]\n",
    "expense_names = [cat_names[i] for i in expense_categories]\n",
    "expense_names"
   ]
  },
  {
   "cell_type": "markdown",
   "metadata": {},
   "source": [
    "And plot pie charts for each life stage:"
   ]
  },
  {
   "cell_type": "code",
   "execution_count": null,
   "metadata": {
    "scrolled": false
   },
   "outputs": [],
   "source": [
    "for i in range(len(life_stage_df)):\n",
    "    avg_dict = calc_averages(to_dt(life_stage_df.start[i]),\n",
    "                             to_dt(life_stage_df.end[i]),\n",
    "                             categories_to_sum=expense_categories,\n",
    "                             category_values=life_stage_df.cat_values[i])\n",
    "    vals = [\n",
    "        avg_dict[\"by_category\"][i] for i in expense_categories\n",
    "        if avg_dict[\"by_category\"][i] > 0\n",
    "    ]\n",
    "    labels = [\n",
    "        cat_names[i] for i in expense_categories\n",
    "        if avg_dict[\"by_category\"][i] > 0\n",
    "    ]\n",
    "    colors = [\n",
    "        list(mc.XKCD_COLORS)[i + 40] for i in expense_categories\n",
    "        if avg_dict[\"by_category\"][i] > 0\n",
    "    ]\n",
    "    fig1, ax1 = plt.subplots()\n",
    "    ax1.pie(\n",
    "        vals,\n",
    "        labels=labels,\n",
    "        colors=colors,\n",
    "        autopct=lambda p: '{:.2f}% ({:,.0f}€)'.format(p,\n",
    "                                                      p * sum(vals) / 100),\n",
    "        pctdistance=0.8)\n",
    "    ax1.set_title(str(life_stage_df.Name[i]), pad=20)\n",
    "    ax1.text(0, -0.1, \"Ausgaben\", ha=\"center\", va=\"center\")\n",
    "    ax1.text(0, -0.2, str(avg_dict[\"total\"]) + \"€\", ha=\"center\", va=\"center\")\n",
    "    ax1.text(0, 0.2, \"Einnahmen\", ha=\"center\", va=\"center\")\n",
    "    ax1.text(0,\n",
    "             0.1,\n",
    "             str(-avg_dict[\"by_category\"][10]) + \"€\",\n",
    "             ha=\"center\",\n",
    "             va=\"center\")\n",
    "    circle = plt.Circle((0, 0), 0.6, fc='white')\n",
    "    fig = plt.gcf()\n",
    "    fig.gca().add_artist(circle)\n",
    "    ax1.axis('equal')\n",
    "    plt.tight_layout()\n",
    "    plt.show()"
   ]
  },
  {
   "cell_type": "markdown",
   "metadata": {},
   "source": [
    "Code for showing entries of a certain category in a specified timeframe:"
   ]
  },
  {
   "cell_type": "code",
   "execution_count": null,
   "metadata": {},
   "outputs": [],
   "source": [
    "data[(data.Category == \"Other\") & (data.Amount != 0)\n",
    "     & (data.Date >= to_dt(life_stage_df.start[2])) &\n",
    "     (data.Date <= to_dt(life_stage_df.end[2]))]"
   ]
  }
 ],
 "metadata": {
  "kernelspec": {
   "display_name": "Python 3",
   "language": "python",
   "name": "python3"
  },
  "language_info": {
   "codemirror_mode": {
    "name": "ipython",
    "version": 3
   },
   "file_extension": ".py",
   "mimetype": "text/x-python",
   "name": "python",
   "nbconvert_exporter": "python",
   "pygments_lexer": "ipython3",
   "version": "3.7.6"
  }
 },
 "nbformat": 4,
 "nbformat_minor": 4
}

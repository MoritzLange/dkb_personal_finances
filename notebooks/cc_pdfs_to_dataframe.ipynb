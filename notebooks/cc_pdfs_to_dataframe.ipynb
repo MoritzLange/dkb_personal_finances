{
 "cells": [
  {
   "cell_type": "code",
   "execution_count": null,
   "metadata": {},
   "outputs": [],
   "source": [
    "import numpy as np\n",
    "import pandas as pd\n",
    "import pdfplumber as pp\n",
    "import time\n",
    "import re\n",
    "import os"
   ]
  },
  {
   "cell_type": "markdown",
   "metadata": {},
   "source": [
    "Prepare paths to files. All files in cc_folder (and its subdirectories) must be credit card statements."
   ]
  },
  {
   "cell_type": "code",
   "execution_count": null,
   "metadata": {},
   "outputs": [],
   "source": [
    "cc_folder = \"/home/user1/Documents/DKB/Kreditkartenabrechnungen\"\n",
    "paths = list()\n",
    "first_four_credit_card_digits = \"####\"  # Secret :)\n",
    "for (dirpath, dirnames, filenames) in os.walk(cc_folder):\n",
    "    paths += [\n",
    "        os.path.join(dirpath, file) for file in filenames\n",
    "        if first_four_credit_card_digits in file\n",
    "    ]"
   ]
  },
  {
   "cell_type": "markdown",
   "metadata": {},
   "source": [
    "Open all files and extract entries"
   ]
  },
  {
   "cell_type": "code",
   "execution_count": null,
   "metadata": {
    "scrolled": false
   },
   "outputs": [],
   "source": [
    "all_entries = []\n",
    "for p in paths:\n",
    "    text = \"\"\n",
    "    with pp.open(p) as pdf:\n",
    "        # Store table contents of all pdf pages as text\n",
    "        for page in pdf.pages:\n",
    "            page_text = page.extract_text()\n",
    "            page_text = page_text.split(\"EUR\\n\", 1)[1]\n",
    "            page_text = page_text.split(\"\\n\", 1)[1]\n",
    "            if \"Neuer Saldo\" in page_text:\n",
    "                page_text = page_text.split(\"\\nNeuer Saldo\")[0]\n",
    "                text = text + \"\\n\" + page_text\n",
    "                break\n",
    "            else:\n",
    "                page_text = page_text.split(\"\\nZwischensumme\")[0]\n",
    "                text = text + \"\\n\" + page_text\n",
    "    # Split text into lines\n",
    "    lines = text.split(\"\\n\")\n",
    "    # Discard lines that are continuation of previous line\n",
    "    # (merging possible but complicated and unnecessary)\n",
    "    for i, l in enumerate(lines[1:], 1):\n",
    "        regexp = re.compile('\\d{2}\\.\\d{2}\\.\\d{2} \\d{2}\\.\\d{2}\\.\\d{2}')\n",
    "        if regexp.match(l) is None:\n",
    "            lines[i] = \"\"\n",
    "    lines = [l for l in lines if l != '']\n",
    "    all_entries = all_entries + lines"
   ]
  },
  {
   "cell_type": "markdown",
   "metadata": {},
   "source": [
    "Write entries into DataFrame"
   ]
  },
  {
   "cell_type": "code",
   "execution_count": null,
   "metadata": {
    "scrolled": false
   },
   "outputs": [],
   "source": [
    "# Create DataFrame\n",
    "table = pd.DataFrame(columns=[\"Date\", \"Subject\", \"Amount\"])\n",
    "# Write entries into DataFrame\n",
    "for e in all_entries:\n",
    "    blocks = e.split(\" \")\n",
    "    table.loc[len(table) + 1] = [blocks[0], \" \".join(blocks[2:-1]), blocks[-1]]\n",
    "# Format entries correctly\n",
    "table.Date = pd.to_datetime(table.Date, format=\"%d.%m.%y\")\n",
    "table.Amount = table.Amount.apply(lambda x: float(x[:-1].replace(\n",
    "    \".\", \"\").replace(\",\", \".\")) * (1 if x[-1] == \"+\" else -1))\n",
    "table.sort_values(by=\"Date\", inplace=True)\n",
    "table.reset_index(inplace=True, drop=True)\n",
    "# Display result\n",
    "table"
   ]
  },
  {
   "cell_type": "markdown",
   "metadata": {},
   "source": [
    "Have a quick look into the data:"
   ]
  },
  {
   "cell_type": "code",
   "execution_count": null,
   "metadata": {},
   "outputs": [],
   "source": [
    "table.info()"
   ]
  },
  {
   "cell_type": "code",
   "execution_count": null,
   "metadata": {},
   "outputs": [],
   "source": [
    "table.plot(\"Date\", \"Amount\", ylim=(-50, 50))"
   ]
  },
  {
   "cell_type": "markdown",
   "metadata": {},
   "source": [
    "Store the dataframe for further analysis"
   ]
  },
  {
   "cell_type": "code",
   "execution_count": null,
   "metadata": {},
   "outputs": [],
   "source": [
    "table.to_pickle(\"cc_data_raw.pkl\")"
   ]
  }
 ],
 "metadata": {
  "kernelspec": {
   "display_name": "Python 3",
   "language": "python",
   "name": "python3"
  },
  "language_info": {
   "codemirror_mode": {
    "name": "ipython",
    "version": 3
   },
   "file_extension": ".py",
   "mimetype": "text/x-python",
   "name": "python",
   "nbconvert_exporter": "python",
   "pygments_lexer": "ipython3",
   "version": "3.7.6"
  }
 },
 "nbformat": 4,
 "nbformat_minor": 4
}

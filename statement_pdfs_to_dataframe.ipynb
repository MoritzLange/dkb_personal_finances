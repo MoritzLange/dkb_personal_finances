{
 "cells": [
  {
   "cell_type": "code",
   "execution_count": null,
   "metadata": {},
   "outputs": [],
   "source": [
    "import numpy as np\n",
    "import pandas as pd\n",
    "import pdfplumber as pp\n",
    "import time\n",
    "import re\n",
    "import os"
   ]
  },
  {
   "cell_type": "markdown",
   "metadata": {},
   "source": [
    "Prepare paths to files. All files in statement_folder (and its subfolders) must be bank account statements, or alternatively, the if statement adjusted to filter the file names."
   ]
  },
  {
   "cell_type": "code",
   "execution_count": null,
   "metadata": {},
   "outputs": [],
   "source": [
    "statement_folder = \"/home/user1/Documents/DKB/Kontoauszuege\"\n",
    "paths = list()\n",
    "account_nr = \"########\" # Secret :)\n",
    "for (dirpath, dirnames, filenames) in os.walk(statement_folder):\n",
    "    paths += [\n",
    "        os.path.join(dirpath, file) for file in filenames\n",
    "        if account_nr in file\n",
    "    ]"
   ]
  },
  {
   "cell_type": "markdown",
   "metadata": {},
   "source": [
    "Open all files and extract entries"
   ]
  },
  {
   "cell_type": "code",
   "execution_count": null,
   "metadata": {
    "scrolled": false
   },
   "outputs": [],
   "source": [
    "all_entries = []\n",
    "for p in paths:\n",
    "    full_text = \"\"\n",
    "    cropped_text = \"\"\n",
    "    with pp.open(p) as pdf:\n",
    "        # Store table contents of all pdf pages as text.\n",
    "        # First for full pages\n",
    "        for page in pdf.pages:\n",
    "            # Text of full page:\n",
    "            page_text = page.extract_text()\n",
    "            # Find the year\n",
    "            year = page_text.split(\" / \", 1)[1].split(\" \", 1)[0]\n",
    "            # Extract the text in tables\n",
    "            if ((\"Gutschrift in EUR\" in page_text) and\n",
    "                    \"Gutschrift in EUR\\nALTER KONTOSTAND\" not in page_text):\n",
    "                page_text = page_text.split(\"Gutschrift in EUR\\n\", 1)[1]\n",
    "                if \"ALTER KONTOSTAND\" in page_text:\n",
    "                    page_text = page_text.split(\"\\nALTER KONTOSTAND\")[0]\n",
    "                    full_text = full_text + \"\\n\" + page_text\n",
    "                    break\n",
    "                else:\n",
    "                    page_text = page_text.split(\"\\nDeutsche Kreditbank AG\")[0]\n",
    "                    full_text = full_text + \"\\n\" + page_text\n",
    "            else:\n",
    "                break\n",
    "        # And secondly for cropped pages, where the same page is read again, but the\n",
    "        # last 20% are cropped out so that it is possible to determine if values are in the\n",
    "        # last column of a table or not (depending on whether they appear in both reads)\n",
    "        for page in pdf.pages:\n",
    "            # Text of cropped page:\n",
    "            cropped_page_text = page.crop((0, 0, int(int(page.width) * 0.8),\n",
    "                                           page.height)).extract_text()\n",
    "            # Extract the text in tables\n",
    "            if ((\"Belastung in EUR\" in cropped_page_text)\n",
    "                    and \"Belastung in EUR\\nALTER KONTOSTAND\" not in\n",
    "                    cropped_page_text):\n",
    "                cropped_page_text = cropped_page_text.split(\n",
    "                    \"Belastung in EUR\\n\", 1)[1]\n",
    "                if \"ALTER KONTOSTAND\" in cropped_page_text:\n",
    "                    cropped_page_text = cropped_page_text.split(\n",
    "                        \"\\nALTER KONTOSTAND\")[0]\n",
    "                    cropped_text = cropped_text + \"\\n\" + cropped_page_text\n",
    "                    break\n",
    "                else:\n",
    "                    cropped_page_text = cropped_page_text.split(\n",
    "                        \"\\nDeutsche Kreditbank AG\")[0]\n",
    "                    cropped_text = cropped_text + \"\\n\" + cropped_page_text\n",
    "            else:\n",
    "                break\n",
    "    # Split full text and cropped text into lines\n",
    "    lines_full = full_text.split(\"\\n\")\n",
    "    lines_cropped = cropped_text.split(\"\\n\")\n",
    "    # Merge lines that are continuation of previous line\n",
    "    for i, l in enumerate(lines_full[1:], 1):\n",
    "        regexp = re.compile('\\d{2}\\.\\d{2}\\. \\d{2}\\.\\d{2}\\.')\n",
    "        if regexp.match(l) is None:\n",
    "            counter = i - 1\n",
    "            previous_line = lines_full[counter]\n",
    "            while previous_line == \"\":\n",
    "                counter -= 1\n",
    "                previous_line = lines_full[counter]\n",
    "            blocks = lines_full[counter].split(\" \")\n",
    "            lines_full[counter] = \" \".join(blocks[0:-1] + [lines_full[i]] +\n",
    "                                           [blocks[-1]])\n",
    "            lines_full[i] = \"\"\n",
    "        else:\n",
    "            if lines_full[i] == lines_cropped[i]:\n",
    "                blocks = l.split(\" \")\n",
    "                lines_full[i] = \" \".join(blocks[:-1] + [\"-\" + blocks[-1]])\n",
    "    # Remove empty lines\n",
    "    lines_full = [l for l in lines_full if l != '']\n",
    "    # Add year to line\n",
    "    for i, l in enumerate(lines_full):\n",
    "        blocks = l.split(\" \")\n",
    "        lines_full[i] = \" \".join([blocks[0] + year[2:]] +\n",
    "                                 [blocks[1] + year[2:]] + blocks[2:])\n",
    "    all_entries = all_entries + lines_full"
   ]
  },
  {
   "cell_type": "markdown",
   "metadata": {},
   "source": [
    "Write entries into DataFrame"
   ]
  },
  {
   "cell_type": "code",
   "execution_count": null,
   "metadata": {
    "scrolled": false
   },
   "outputs": [],
   "source": [
    "# Create DataFrame\n",
    "table = pd.DataFrame(columns=[\"Date\", \"Subject\", \"Amount\"])\n",
    "# Write entries into DataFrame\n",
    "for e in all_entries:\n",
    "    blocks = e.split(\" \")\n",
    "    table.loc[len(table) + 1] = [blocks[0], \" \".join(blocks[2:-1]), blocks[-1]]\n",
    "# Format entries correctly\n",
    "table.Date = pd.to_datetime(table.Date, format=\"%d.%m.%y\")\n",
    "table.Amount = table.Amount.apply(\n",
    "    lambda x: float(x.replace(\".\", \"\").replace(\",\", \".\")))\n",
    "table.sort_values(by=\"Date\", inplace=True)\n",
    "table.reset_index(inplace=True, drop=True)\n",
    "# Display result\n",
    "table"
   ]
  },
  {
   "cell_type": "markdown",
   "metadata": {},
   "source": [
    "Have a quick look into the data:"
   ]
  },
  {
   "cell_type": "code",
   "execution_count": null,
   "metadata": {},
   "outputs": [],
   "source": [
    "table.info()"
   ]
  },
  {
   "cell_type": "code",
   "execution_count": null,
   "metadata": {},
   "outputs": [],
   "source": [
    "table.plot(\"Date\", \"Amount\")"
   ]
  },
  {
   "cell_type": "markdown",
   "metadata": {},
   "source": [
    "Store the dataframe for further analysis"
   ]
  },
  {
   "cell_type": "code",
   "execution_count": null,
   "metadata": {},
   "outputs": [],
   "source": [
    "table.to_pickle(\"statement_data_raw.pkl\")"
   ]
  }
 ],
 "metadata": {
  "kernelspec": {
   "display_name": "Python 3",
   "language": "python",
   "name": "python3"
  },
  "language_info": {
   "codemirror_mode": {
    "name": "ipython",
    "version": 3
   },
   "file_extension": ".py",
   "mimetype": "text/x-python",
   "name": "python",
   "nbconvert_exporter": "python",
   "pygments_lexer": "ipython3",
   "version": "3.7.6"
  }
 },
 "nbformat": 4,
 "nbformat_minor": 4
}
